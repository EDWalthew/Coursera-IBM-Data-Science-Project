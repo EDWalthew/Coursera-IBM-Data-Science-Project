{
    "cells": [
        {
            "cell_type": "markdown",
            "metadata": {
                "collapsed": true
            },
            "source": "# My Jupyter Notebook on IBM Data Science Experience"
        },
        {
            "cell_type": "markdown",
            "metadata": {},
            "source": "**Edward Walthew**  \nElectronic Engineer"
        },
        {
            "cell_type": "markdown",
            "metadata": {},
            "source": "_I am interested in data science because I enjoy mathematics, computer science and storytelling._"
        },
        {
            "cell_type": "markdown",
            "metadata": {},
            "source": "### The code in Cell 5 calculates the 2 to the power of 5."
        },
        {
            "cell_type": "code",
            "execution_count": 1,
            "metadata": {},
            "outputs": [
                {
                    "data": {
                        "text/plain": "32"
                    },
                    "execution_count": 1,
                    "metadata": {},
                    "output_type": "execute_result"
                }
            ],
            "source": "2**5"
        },
        {
            "cell_type": "markdown",
            "metadata": {},
            "source": "* bullet1\n* bullet2\n* bullet3  \n------  \n1. number1\n1. number2\n1. number3\n------\n|Table|Table2|Table3|\n|---|---|---|\n|4|5|6|\n|7|8|9|  \n\n-----\n~~strikethrough~~\n\n------\n\n```python\ns = \"python syntax highlighting\"\n1 + 1\n2**5\n```\n\n> Blockquote"
        },
        {
            "cell_type": "code",
            "execution_count": null,
            "metadata": {},
            "outputs": [],
            "source": ""
        }
    ],
    "metadata": {
        "kernelspec": {
            "display_name": "Python 3.6",
            "language": "python",
            "name": "python3"
        },
        "language_info": {
            "codemirror_mode": {
                "name": "ipython",
                "version": 3
            },
            "file_extension": ".py",
            "mimetype": "text/x-python",
            "name": "python",
            "nbconvert_exporter": "python",
            "pygments_lexer": "ipython3",
            "version": "3.6.9"
        }
    },
    "nbformat": 4,
    "nbformat_minor": 1
}